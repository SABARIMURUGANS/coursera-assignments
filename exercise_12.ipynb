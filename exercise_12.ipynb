{
 "cells": [
  {
   "cell_type": "markdown",
   "id": "64579101-c1d0-49b2-9dc1-9b1d2613050d",
   "metadata": {},
   "source": [
    "#Exploring Data Visualization with Python and Matplotlib"
   ]
  },
  {
   "cell_type": "markdown",
   "id": "03f7d800-b761-401f-a997-bc99207c5f45",
   "metadata": {},
   "source": [
    "# Introduction\n",
    "In this notebook, we will explore various data science tools and techniques.\n"
   ]
  },
  {
   "cell_type": "markdown",
   "id": "e5403ab2-390c-43f6-97b9-1753a699c2ea",
   "metadata": {},
   "source": [
    "# Introduction\n",
    "In this notebook, we will explore various data science languages.\n",
    "\n",
    "1. Python\n",
    "2. R\n",
    "3. SQL\n",
    "4. Julia\n",
    "5. Scala\n"
   ]
  },
  {
   "cell_type": "markdown",
   "id": "b52957ab-747f-4a95-a005-4aa5444cc50e",
   "metadata": {},
   "source": [
    "# Introduction\n",
    "In this notebook, we will explore various data science libraries.\n",
    "\n",
    "1. NumPy\n",
    "2. pandas\n",
    "3. Matplotlib\n",
    "4. scikit-learn\n",
    "5. TensorFlow\n",
    "6. Keras\n",
    "7. PyTorch\n",
    "8. Seaborn\n",
    "9. Plotly\n",
    "10. BeautifulSoup\n"
   ]
  },
  {
   "cell_type": "markdown",
   "id": "3ddf2800-279a-460a-ab72-33224bbe8651",
   "metadata": {},
   "source": [
    "# Introduction\n",
    "In this notebook, we will explore various data science tools.\n",
    "\n",
    "| Tool          | Description                          |\n",
    "|---------------|--------------------------------------|\n",
    "| Python        | Programming language for data science|\n",
    "| R             | Statistical computing and graphics   |\n",
    "| SQL           | Database management                  |\n",
    "| TensorFlow    | Machine learning framework           |\n",
    "| Jupyter       | Interactive computing environment    |\n"
   ]
  },
  {
   "cell_type": "markdown",
   "id": "1fe7e4b5-fd84-4a8d-b608-0987b085ac4a",
   "metadata": {},
   "source": [
    "# Introduction to Arithmetic Expressions\n",
    "In this notebook, we will explore various examples of arithmetic expressions.\n"
   ]
  },
  {
   "cell_type": "code",
   "execution_count": 9,
   "id": "d3b7b542-dd13-404d-a031-b590dc2c7339",
   "metadata": {},
   "outputs": [
    {
     "name": "stdout",
     "output_type": "stream",
     "text": [
      "Multiplication Result: 15\n",
      "Addition Result: 8\n"
     ]
    }
   ],
   "source": [
    "# Multiplication and Addition Example\n",
    "a = 5\n",
    "b = 3\n",
    "multiplication_result = a * b\n",
    "addition_result = a + b\n",
    "print(\"Multiplication Result:\", multiplication_result)\n",
    "print(\"Addition Result:\", addition_result)\n"
   ]
  },
  {
   "cell_type": "code",
   "execution_count": 10,
   "id": "3d93b91b-e3cb-49ca-bac9-1c5094b0f0f4",
   "metadata": {},
   "outputs": [
    {
     "name": "stdout",
     "output_type": "stream",
     "text": [
      "130 minutes is equal to 2 hours and 10 minutes.\n"
     ]
    }
   ],
   "source": [
    "# Convert Minutes to Hours\n",
    "total_minutes = 130  # Example value\n",
    "hours = total_minutes // 60\n",
    "minutes = total_minutes % 60\n",
    "print(f\"{total_minutes} minutes is equal to {hours} hours and {minutes} minutes.\")\n"
   ]
  },
  {
   "cell_type": "markdown",
   "id": "55ca0c3b-1a59-4dc5-8467-87834a44326f",
   "metadata": {},
   "source": [
    "# Objectives\n",
    "In this notebook, we will cover the following objectives:\n",
    "- Understand the basics of data science\n",
    "- Learn about popular data science languages\n",
    "- Explore various data science libraries\n",
    "- Implement basic arithmetic operations\n"
   ]
  },
  {
   "cell_type": "markdown",
   "id": "cd7c1cfa-80b9-4083-8818-029b97cd4437",
   "metadata": {},
   "source": [
    "# Author\n",
    "This notebook was created by [SABARI MURUGAN S].\n"
   ]
  },
  {
   "cell_type": "code",
   "execution_count": null,
   "id": "cc271ca9-bbd0-4e97-9ce9-14db85d12909",
   "metadata": {},
   "outputs": [],
   "source": []
  }
 ],
 "metadata": {
  "kernelspec": {
   "display_name": "Python 3 (ipykernel)",
   "language": "python",
   "name": "python3"
  },
  "language_info": {
   "codemirror_mode": {
    "name": "ipython",
    "version": 3
   },
   "file_extension": ".py",
   "mimetype": "text/x-python",
   "name": "python",
   "nbconvert_exporter": "python",
   "pygments_lexer": "ipython3",
   "version": "3.12.4"
  }
 },
 "nbformat": 4,
 "nbformat_minor": 5
}
